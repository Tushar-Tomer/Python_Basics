{
 "cells": [
  {
   "cell_type": "markdown",
   "id": "8cc10fe2",
   "metadata": {},
   "source": [
    "# Print the String"
   ]
  },
  {
   "cell_type": "code",
   "execution_count": 1,
   "id": "7249aed5",
   "metadata": {},
   "outputs": [
    {
     "name": "stdout",
     "output_type": "stream",
     "text": [
      "Hello\n"
     ]
    }
   ],
   "source": [
    "print(\"Hello\")"
   ]
  },
  {
   "cell_type": "code",
   "execution_count": 1,
   "id": "f541e1d6",
   "metadata": {},
   "outputs": [
    {
     "name": "stdout",
     "output_type": "stream",
     "text": [
      "Hello World\n"
     ]
    }
   ],
   "source": [
    "print(\"Hello World\")"
   ]
  },
  {
   "cell_type": "code",
   "execution_count": 2,
   "id": "f5465f7a",
   "metadata": {},
   "outputs": [
    {
     "name": "stdout",
     "output_type": "stream",
     "text": [
      "Hello Tushar\n"
     ]
    }
   ],
   "source": [
    "print(\"Hello Tushar\")"
   ]
  },
  {
   "cell_type": "code",
   "execution_count": 3,
   "id": "1e7b9204",
   "metadata": {},
   "outputs": [
    {
     "name": "stdout",
     "output_type": "stream",
     "text": [
      "Hello 'Tushar'\n"
     ]
    }
   ],
   "source": [
    "print(\"Hello 'Tushar'\")"
   ]
  },
  {
   "cell_type": "code",
   "execution_count": 8,
   "id": "c51497fb",
   "metadata": {},
   "outputs": [
    {
     "name": "stdout",
     "output_type": "stream",
     "text": [
      " \"hello\" tushar\n"
     ]
    }
   ],
   "source": [
    "print(' \"hello\" tushar')"
   ]
  },
  {
   "cell_type": "code",
   "execution_count": 9,
   "id": "0c497f4b",
   "metadata": {},
   "outputs": [
    {
     "name": "stdout",
     "output_type": "stream",
     "text": [
      " hello \"tushar\"\n"
     ]
    }
   ],
   "source": [
    "print(' hello \"tushar\"')"
   ]
  },
  {
   "cell_type": "code",
   "execution_count": 10,
   "id": "9e33746d",
   "metadata": {},
   "outputs": [
    {
     "name": "stdout",
     "output_type": "stream",
     "text": [
      " 'hello' tushar\n"
     ]
    }
   ],
   "source": [
    "print(\" 'hello' tushar\")"
   ]
  },
  {
   "cell_type": "code",
   "execution_count": 2,
   "id": "935c1970",
   "metadata": {},
   "outputs": [
    {
     "name": "stdout",
     "output_type": "stream",
     "text": [
      "/n\n"
     ]
    }
   ],
   "source": [
    "print(\"/n\")"
   ]
  },
  {
   "cell_type": "code",
   "execution_count": 11,
   "id": "bdd57d07",
   "metadata": {},
   "outputs": [
    {
     "name": "stdout",
     "output_type": "stream",
     "text": [
      "/n\n"
     ]
    }
   ],
   "source": [
    "print(\"/n\")"
   ]
  },
  {
   "cell_type": "markdown",
   "id": "e3d14e35",
   "metadata": {},
   "source": [
    "# We can not print the \\n directly because \\n gives the new line. If we want to print the \\n so we can give the input first and then print the \\n ."
   ]
  },
  {
   "cell_type": "code",
   "execution_count": 14,
   "id": "4d7a2bd1",
   "metadata": {},
   "outputs": [
    {
     "name": "stdout",
     "output_type": "stream",
     "text": [
      "\n",
      "\n"
     ]
    }
   ],
   "source": [
    "print('\\n')"
   ]
  },
  {
   "cell_type": "code",
   "execution_count": 1,
   "id": "d44bd591",
   "metadata": {},
   "outputs": [
    {
     "name": "stdout",
     "output_type": "stream",
     "text": [
      "Hello\n"
     ]
    }
   ],
   "source": [
    "print(\"Hello\")"
   ]
  },
  {
   "cell_type": "code",
   "execution_count": 3,
   "id": "d6f2fbce",
   "metadata": {},
   "outputs": [
    {
     "name": "stdout",
     "output_type": "stream",
     "text": [
      "Hello Tushar\n"
     ]
    }
   ],
   "source": [
    "print(\"Hello Tushar\")"
   ]
  },
  {
   "cell_type": "code",
   "execution_count": 4,
   "id": "f61cc0a8",
   "metadata": {},
   "outputs": [
    {
     "name": "stdout",
     "output_type": "stream",
     "text": [
      "'Hello' Tushar\n"
     ]
    }
   ],
   "source": [
    "print(\"'Hello' Tushar\")"
   ]
  },
  {
   "cell_type": "code",
   "execution_count": 5,
   "id": "ee9307f6",
   "metadata": {},
   "outputs": [
    {
     "name": "stdout",
     "output_type": "stream",
     "text": [
      "\"Hello Tushar\"\n"
     ]
    }
   ],
   "source": [
    "print('\"Hello Tushar\"')"
   ]
  },
  {
   "cell_type": "code",
   "execution_count": 6,
   "id": "6131d2ca",
   "metadata": {},
   "outputs": [
    {
     "name": "stdout",
     "output_type": "stream",
     "text": [
      "Hello \"Tushar\"\n"
     ]
    }
   ],
   "source": [
    "print('Hello \"Tushar\"')"
   ]
  },
  {
   "cell_type": "code",
   "execution_count": 7,
   "id": "f31601bb",
   "metadata": {},
   "outputs": [
    {
     "name": "stdout",
     "output_type": "stream",
     "text": [
      "/n\n"
     ]
    }
   ],
   "source": [
    "print(\"/n\")"
   ]
  },
  {
   "cell_type": "code",
   "execution_count": 1,
   "id": "f50ffae6",
   "metadata": {},
   "outputs": [
    {
     "name": "stdout",
     "output_type": "stream",
     "text": [
      "The beautiful thing of the world is itself world\n"
     ]
    }
   ],
   "source": [
    "print(\"The beautiful thing of the world is itself world\")"
   ]
  },
  {
   "cell_type": "code",
   "execution_count": 11,
   "id": "bd0aa22c",
   "metadata": {},
   "outputs": [
    {
     "name": "stdout",
     "output_type": "stream",
     "text": [
      "10\n"
     ]
    }
   ],
   "source": [
    "a=10\n",
    "print(a)"
   ]
  },
  {
   "cell_type": "code",
   "execution_count": 3,
   "id": "164052d6",
   "metadata": {},
   "outputs": [
    {
     "name": "stdout",
     "output_type": "stream",
     "text": [
      "<class 'int'>\n"
     ]
    }
   ],
   "source": [
    "a=10\n",
    "print(int)"
   ]
  },
  {
   "cell_type": "markdown",
   "id": "3581a074",
   "metadata": {},
   "source": [
    "# I can check the type of data."
   ]
  },
  {
   "cell_type": "code",
   "execution_count": 1,
   "id": "e7a95bfa",
   "metadata": {},
   "outputs": [
    {
     "name": "stdout",
     "output_type": "stream",
     "text": [
      "<class 'int'> 4\n",
      "<class 'float'> 4.4\n",
      "<class 'str'> Tushar\n",
      "<class 'tuple'> (1, 2, 3, 4)\n",
      "<class 'list'> [1, 2, 3, 4, 'A', 'B']\n",
      "<class 'dict'> {4: 'A', 4.4: 'B'}\n",
      "<class 'set'> {1, 2, 3, 4}\n",
      "<class 'bool'> True\n",
      "<class 'bool'> False\n"
     ]
    }
   ],
   "source": [
    "x=True\n",
    "y=False\n",
    "a=4\n",
    "b=4.4\n",
    "c='Tushar'\n",
    "d=(1,2,3,4)\n",
    "e=[1,2,3,4,'A','B']\n",
    "f={a:'A',b:\"B\"}\n",
    "g={1,2,3,4}\n",
    "print(type(a),a)\n",
    "print(type(b),b)\n",
    "print(type(c),c)\n",
    "print(type(d),d)\n",
    "print(type(e),e)\n",
    "print(type(f),f)\n",
    "print(type(g),g)\n",
    "print(type(x),x)\n",
    "print(type(y),y)"
   ]
  },
  {
   "cell_type": "markdown",
   "id": "25c2dd0e",
   "metadata": {},
   "source": [
    "# Now i convert the recent datatyoe in another datatype . "
   ]
  },
  {
   "cell_type": "code",
   "execution_count": 6,
   "id": "2facb6ac",
   "metadata": {},
   "outputs": [
    {
     "name": "stdout",
     "output_type": "stream",
     "text": [
      "4\n",
      "4.0\n",
      "4.4\n",
      "4\n",
      "8\n",
      "8\n",
      "8.0\n",
      "8\n",
      "8.8\n",
      "8.8\n",
      "8\n"
     ]
    }
   ],
   "source": [
    "a=4\n",
    "b=4.4\n",
    "c='8'\n",
    "d='8.8'\n",
    "print(a)\n",
    "print(float(a))\n",
    "print(b)\n",
    "print(int(b))\n",
    "print(c)\n",
    "print(int(c))\n",
    "print(float(c))\n",
    "print(int(float(c)))\n",
    "print(d)\n",
    "print(float(d))\n",
    "print(int(float(d)))"
   ]
  },
  {
   "cell_type": "code",
   "execution_count": 5,
   "id": "a9b10803",
   "metadata": {},
   "outputs": [
    {
     "name": "stdout",
     "output_type": "stream",
     "text": [
      "<class 'float'>\n"
     ]
    }
   ],
   "source": [
    "a=4.4\n",
    "print(float)"
   ]
  },
  {
   "cell_type": "code",
   "execution_count": 7,
   "id": "e1460724",
   "metadata": {},
   "outputs": [
    {
     "name": "stdout",
     "output_type": "stream",
     "text": [
      "The data type of 4 is <class 'int'>\n"
     ]
    }
   ],
   "source": [
    "a=4\n",
    "print('The data type of',a,'is',type(a))"
   ]
  },
  {
   "cell_type": "code",
   "execution_count": 9,
   "id": "9f0ee0d6",
   "metadata": {},
   "outputs": [
    {
     "name": "stdout",
     "output_type": "stream",
     "text": [
      "<class 'float'>\n"
     ]
    }
   ],
   "source": [
    "a=10.8\n",
    "print(type(a))"
   ]
  },
  {
   "cell_type": "code",
   "execution_count": 3,
   "id": "8471a0d7",
   "metadata": {},
   "outputs": [
    {
     "name": "stdout",
     "output_type": "stream",
     "text": [
      "4\n"
     ]
    }
   ],
   "source": [
    "a=\"4.4\"\n",
    "print(int(float(a)))"
   ]
  },
  {
   "cell_type": "code",
   "execution_count": 10,
   "id": "dfda72fb",
   "metadata": {},
   "outputs": [
    {
     "name": "stdout",
     "output_type": "stream",
     "text": [
      "The data type of  A is <class 'str'>\n"
     ]
    }
   ],
   "source": [
    "a='A'\n",
    "print(\"The data type of \",a,'is',type(a))"
   ]
  },
  {
   "cell_type": "code",
   "execution_count": 12,
   "id": "ddaaaeeb",
   "metadata": {},
   "outputs": [
    {
     "name": "stdout",
     "output_type": "stream",
     "text": [
      "The data type of  abcdef is <class 'str'>\n"
     ]
    }
   ],
   "source": [
    "a='abcdef'\n",
    "print('The data type of ',a,'is',type(a))"
   ]
  },
  {
   "cell_type": "code",
   "execution_count": 13,
   "id": "77fbcb08",
   "metadata": {},
   "outputs": [
    {
     "name": "stdout",
     "output_type": "stream",
     "text": [
      "3 <class 'int'>\n"
     ]
    }
   ],
   "source": [
    "a=3.15\n",
    "a=int(a)\n",
    "print(a,type(a))"
   ]
  },
  {
   "cell_type": "code",
   "execution_count": 15,
   "id": "79030c3d",
   "metadata": {},
   "outputs": [
    {
     "name": "stdout",
     "output_type": "stream",
     "text": [
      "4.0 <class 'str'>\n"
     ]
    }
   ],
   "source": [
    "a=4.0\n",
    "a=str(a)\n",
    "print(a,type(a))"
   ]
  },
  {
   "cell_type": "code",
   "execution_count": 16,
   "id": "231228e9",
   "metadata": {},
   "outputs": [
    {
     "name": "stdout",
     "output_type": "stream",
     "text": [
      "7 <class 'int'>\n"
     ]
    }
   ],
   "source": [
    "a='7'\n",
    "a=int(a)\n",
    "print(a,type(a))"
   ]
  },
  {
   "cell_type": "code",
   "execution_count": 18,
   "id": "63c7ecb8",
   "metadata": {},
   "outputs": [
    {
     "name": "stdout",
     "output_type": "stream",
     "text": [
      "88.0 <class 'float'>\n"
     ]
    }
   ],
   "source": [
    "a='88'\n",
    "a=float(a)\n",
    "print(a,type(a))"
   ]
  },
  {
   "cell_type": "code",
   "execution_count": 20,
   "id": "01083728",
   "metadata": {},
   "outputs": [
    {
     "name": "stdout",
     "output_type": "stream",
     "text": [
      "3 <class 'int'>\n"
     ]
    }
   ],
   "source": [
    "a='3.15'\n",
    "a=float(a)\n",
    "a=int(a)\n",
    "print(a,type(a))"
   ]
  },
  {
   "cell_type": "code",
   "execution_count": 22,
   "id": "b9ac3467",
   "metadata": {},
   "outputs": [
    {
     "name": "stdout",
     "output_type": "stream",
     "text": [
      "3\n"
     ]
    }
   ],
   "source": [
    "z=\"3.15\"\n",
    "print(int(float(z)))"
   ]
  },
  {
   "cell_type": "markdown",
   "id": "7c5181d7",
   "metadata": {},
   "source": [
    "# Now i am taking the input from the user ."
   ]
  },
  {
   "cell_type": "code",
   "execution_count": 4,
   "id": "53c97345",
   "metadata": {},
   "outputs": [
    {
     "name": "stdout",
     "output_type": "stream",
     "text": [
      "Enter Anything=\\n\n",
      "\\n\n"
     ]
    }
   ],
   "source": [
    "a=input(\"Enter Anything=\")\n",
    "print(a)"
   ]
  },
  {
   "cell_type": "code",
   "execution_count": 26,
   "id": "35d1000e",
   "metadata": {},
   "outputs": [
    {
     "name": "stdout",
     "output_type": "stream",
     "text": [
      "Enter Any No.=\\n\n",
      "\\n\n"
     ]
    }
   ],
   "source": [
    "a=input(\"Enter Any No.=\")\n",
    "print(a)"
   ]
  },
  {
   "cell_type": "code",
   "execution_count": 32,
   "id": "b7aeeb50",
   "metadata": {},
   "outputs": [
    {
     "name": "stdout",
     "output_type": "stream",
     "text": [
      "Enter Your Name=deep\n",
      "Enter Your Age=345\n",
      "Enter Your Height=8.6\n",
      "Your name is deep\n",
      "Your Age is 345\n",
      "Your Height is 8.6\n"
     ]
    }
   ],
   "source": [
    "name=input('Enter Your Name=')\n",
    "age=int(input('Enter Your Age='))\n",
    "height=float(input('Enter Your Height='))\n",
    "print('Your name is',(name))\n",
    "print('Your Age is',(age))\n",
    "print('Your Height is',height)"
   ]
  },
  {
   "cell_type": "code",
   "execution_count": 34,
   "id": "9ee01a93",
   "metadata": {},
   "outputs": [
    {
     "name": "stdout",
     "output_type": "stream",
     "text": [
      "<class 'int'>\n"
     ]
    }
   ],
   "source": [
    "print(type(age))"
   ]
  },
  {
   "cell_type": "code",
   "execution_count": 2,
   "id": "75d930b8",
   "metadata": {},
   "outputs": [
    {
     "name": "stdout",
     "output_type": "stream",
     "text": [
      "<class 'int'>\n"
     ]
    }
   ],
   "source": [
    "a=44\n",
    "print(type(a))"
   ]
  },
  {
   "cell_type": "code",
   "execution_count": 3,
   "id": "c202eead",
   "metadata": {},
   "outputs": [
    {
     "name": "stdout",
     "output_type": "stream",
     "text": [
      "<class 'float'>\n"
     ]
    }
   ],
   "source": [
    "a=4.4\n",
    "print(type(a))"
   ]
  },
  {
   "cell_type": "code",
   "execution_count": 4,
   "id": "03834f7a",
   "metadata": {},
   "outputs": [
    {
     "name": "stdout",
     "output_type": "stream",
     "text": [
      "<class 'str'>\n"
     ]
    }
   ],
   "source": [
    "a='1234'\n",
    "print(type(a))"
   ]
  },
  {
   "cell_type": "code",
   "execution_count": 5,
   "id": "d7a4182c",
   "metadata": {},
   "outputs": [
    {
     "name": "stdout",
     "output_type": "stream",
     "text": [
      "ABCD\n",
      "<class 'str'>\n"
     ]
    }
   ],
   "source": [
    "a='ABCD'\n",
    "print(a)\n",
    "print(type(a))"
   ]
  },
  {
   "cell_type": "code",
   "execution_count": 15,
   "id": "70210722",
   "metadata": {},
   "outputs": [
    {
     "name": "stdout",
     "output_type": "stream",
     "text": [
      "The datatype of  4.4  is <class 'float'>\n",
      "The datatype of  4  is <class 'int'>\n"
     ]
    }
   ],
   "source": [
    "a=4.4\n",
    "print(\"The datatype of \",a,\" is\",type(a))\n",
    "a=int(a)\n",
    "print(\"The datatype of \",a,\" is\",type(a))"
   ]
  },
  {
   "cell_type": "code",
   "execution_count": 16,
   "id": "0c9a446b",
   "metadata": {},
   "outputs": [
    {
     "name": "stdout",
     "output_type": "stream",
     "text": [
      "The datatype of  A  is <class 'str'>\n"
     ]
    }
   ],
   "source": [
    "a='A'\n",
    "print(\"The datatype of \",a,\" is\",type(a))"
   ]
  },
  {
   "cell_type": "code",
   "execution_count": 17,
   "id": "d7803bfe",
   "metadata": {},
   "outputs": [
    {
     "name": "stdout",
     "output_type": "stream",
     "text": [
      "Tushar\n",
      "The datatype of  Tushar  is <class 'str'>\n"
     ]
    }
   ],
   "source": [
    "a='Tushar'\n",
    "print(a)\n",
    "print(\"The datatype of \",a,\" is\",type(a))"
   ]
  },
  {
   "cell_type": "code",
   "execution_count": 19,
   "id": "abb65344",
   "metadata": {},
   "outputs": [
    {
     "name": "stdout",
     "output_type": "stream",
     "text": [
      "The datatype of  1234  is <class 'str'>\n",
      "The datatype of  1234  is <class 'int'>\n"
     ]
    }
   ],
   "source": [
    "a='1234'\n",
    "print(\"The datatype of \",a,\" is\",type(a))\n",
    "a=int(a)\n",
    "print(\"The datatype of \",a,\" is\",type(a))"
   ]
  },
  {
   "cell_type": "code",
   "execution_count": 22,
   "id": "48f4b4b0",
   "metadata": {},
   "outputs": [
    {
     "name": "stdout",
     "output_type": "stream",
     "text": [
      "The datatype of  4  is <class 'int'>\n"
     ]
    }
   ],
   "source": [
    "a='4.4'\n",
    "a=float(a)\n",
    "a=int(a)\n",
    "print(\"The datatype of \",a,\" is\",type(a))"
   ]
  },
  {
   "cell_type": "code",
   "execution_count": 24,
   "id": "db191293",
   "metadata": {},
   "outputs": [
    {
     "name": "stdout",
     "output_type": "stream",
     "text": [
      "4\n"
     ]
    }
   ],
   "source": [
    "a='4.4'\n",
    "print(int(float(a)))"
   ]
  },
  {
   "cell_type": "code",
   "execution_count": 27,
   "id": "60e31fe9",
   "metadata": {},
   "outputs": [
    {
     "name": "stdout",
     "output_type": "stream",
     "text": [
      "The Value of a is 10\n",
      "The datatype of  10.4  is <class 'str'>\n"
     ]
    }
   ],
   "source": [
    "a='10.4'\n",
    "print(\"The Value of a is\",int(float(a)))\n",
    "print(\"The datatype of \",a,\" is\",type(a))"
   ]
  },
  {
   "cell_type": "code",
   "execution_count": 34,
   "id": "f5686400",
   "metadata": {},
   "outputs": [
    {
     "name": "stdout",
     "output_type": "stream",
     "text": [
      "Enter any no.=44\n",
      "Your no. is  44\n"
     ]
    }
   ],
   "source": [
    "a=input(\"Enter any no.=\")\n",
    "print('Your no. is ',a)"
   ]
  },
  {
   "cell_type": "code",
   "execution_count": 1,
   "id": "2de659d4",
   "metadata": {},
   "outputs": [
    {
     "name": "stdout",
     "output_type": "stream",
     "text": [
      "Enter Your Name= Karan\n",
      "Enter Your Age= 20\n",
      "Enter Your Salary= 5000000\n",
      "Enter Your Profession= Data Scientist\n",
      "\n",
      "Your name is  Karan\n",
      "Your Age is  20\n",
      "Your Salary is  5000000.0\n",
      "Your Profession is  Data Scientist\n"
     ]
    }
   ],
   "source": [
    "name=input('Enter Your Name= ')\n",
    "age=int(input('Enter Your Age= '))\n",
    "salary=float(input('Enter Your Salary= '))\n",
    "profession=input('Enter Your Profession= ')\n",
    "print(\"\\nYour name is \",name)\n",
    "print(\"Your Age is \",age)\n",
    "print(\"Your Salary is \",salary)\n",
    "print(\"Your Profession is \",profession)\n",
    "\n"
   ]
  },
  {
   "cell_type": "code",
   "execution_count": 39,
   "id": "c3e08387",
   "metadata": {},
   "outputs": [
    {
     "name": "stdout",
     "output_type": "stream",
     "text": [
      "Enter any no.=4\n",
      "Your no. is  4\n"
     ]
    }
   ],
   "source": [
    "a=input(\"Enter any no.=\")\n",
    "print('Your no. is ',a)"
   ]
  },
  {
   "cell_type": "code",
   "execution_count": 38,
   "id": "ca02c37e",
   "metadata": {},
   "outputs": [
    {
     "name": "stdout",
     "output_type": "stream",
     "text": [
      "Enter any no.=2\n",
      "Your no. is  2\n"
     ]
    }
   ],
   "source": [
    "a=input(\"Enter any no.=\")\n",
    "print('Your no. is ',a)"
   ]
  },
  {
   "cell_type": "code",
   "execution_count": 33,
   "id": "91072fd8",
   "metadata": {},
   "outputs": [
    {
     "name": "stdout",
     "output_type": "stream",
     "text": [
      "<class 'int'>\n"
     ]
    }
   ],
   "source": [
    "str=1\n",
    "print(type(str))"
   ]
  },
  {
   "cell_type": "code",
   "execution_count": 7,
   "id": "d2a14f82",
   "metadata": {},
   "outputs": [
    {
     "name": "stdout",
     "output_type": "stream",
     "text": [
      "Enter String=\\n\n",
      "\\n\n"
     ]
    }
   ],
   "source": [
    "a=input(\"Enter String=\")\n",
    "print(a)"
   ]
  },
  {
   "cell_type": "markdown",
   "id": "3b8c51d1",
   "metadata": {},
   "source": [
    "# This type of keywords we can use in the data ."
   ]
  },
  {
   "cell_type": "code",
   "execution_count": 21,
   "id": "37a756c0",
   "metadata": {},
   "outputs": [
    {
     "name": "stdout",
     "output_type": "stream",
     "text": [
      "['False', 'None', 'True', '__peg_parser__', 'and', 'as', 'assert', 'async', 'await', 'break', 'class', 'continue', 'def', 'del', 'elif', 'else', 'except', 'finally', 'for', 'from', 'global', 'if', 'import', 'in', 'is', 'lambda', 'nonlocal', 'not', 'or', 'pass', 'raise', 'return', 'try', 'while', 'with', 'yield']\n"
     ]
    }
   ],
   "source": [
    "import keyword\n",
    "print(keyword.kwlist)"
   ]
  },
  {
   "cell_type": "code",
   "execution_count": 17,
   "id": "4f3e6097",
   "metadata": {},
   "outputs": [
    {
     "name": "stdout",
     "output_type": "stream",
     "text": [
      "1234\n"
     ]
    }
   ],
   "source": [
    "true=1234\n",
    "print(true)"
   ]
  },
  {
   "cell_type": "code",
   "execution_count": 41,
   "id": "f624cc3e",
   "metadata": {},
   "outputs": [
    {
     "name": "stdout",
     "output_type": "stream",
     "text": [
      "5.0\n"
     ]
    }
   ],
   "source": [
    "from math import sqrt\n",
    "a=25\n",
    "print(sqrt(a))"
   ]
  },
  {
   "cell_type": "code",
   "execution_count": 15,
   "id": "3123b84d",
   "metadata": {},
   "outputs": [
    {
     "name": "stdout",
     "output_type": "stream",
     "text": [
      "Enter No.=4\n",
      "24\n"
     ]
    }
   ],
   "source": [
    "from math import factorial\n",
    "a=int(input(\"Enter No.=\"))\n",
    "print(factorial(a))"
   ]
  },
  {
   "cell_type": "code",
   "execution_count": 43,
   "id": "53b91b88",
   "metadata": {},
   "outputs": [
    {
     "name": "stdout",
     "output_type": "stream",
     "text": [
      "1\n",
      "2\n",
      "5\n",
      "10\n"
     ]
    }
   ],
   "source": [
    "a=10\n",
    "for i in range(1,a+1):\n",
    "    if a%i==0:\n",
    "        print(i)"
   ]
  },
  {
   "cell_type": "code",
   "execution_count": 25,
   "id": "6186073c",
   "metadata": {},
   "outputs": [
    {
     "name": "stdout",
     "output_type": "stream",
     "text": [
      "<class 'str'> False\n"
     ]
    }
   ],
   "source": [
    "a='False'\n",
    "print(type(a),a)"
   ]
  },
  {
   "cell_type": "code",
   "execution_count": 3,
   "id": "8b3a7c73",
   "metadata": {},
   "outputs": [
    {
     "name": "stdout",
     "output_type": "stream",
     "text": [
      "<class 'bool'>\n"
     ]
    }
   ],
   "source": [
    "a=False\n",
    "print(type(a))"
   ]
  },
  {
   "cell_type": "code",
   "execution_count": 19,
   "id": "51ee47ff",
   "metadata": {},
   "outputs": [
    {
     "name": "stdout",
     "output_type": "stream",
     "text": [
      "2047937702288\n"
     ]
    }
   ],
   "source": [
    "a=4\n",
    "print(id(a))"
   ]
  },
  {
   "cell_type": "code",
   "execution_count": 2,
   "id": "c145e579",
   "metadata": {},
   "outputs": [
    {
     "name": "stdout",
     "output_type": "stream",
     "text": [
      "2536447568272\n"
     ]
    }
   ],
   "source": [
    "a=4\n",
    "print(id(a))"
   ]
  }
 ],
 "metadata": {
  "kernelspec": {
   "display_name": "Python 3 (ipykernel)",
   "language": "python",
   "name": "python3"
  },
  "language_info": {
   "codemirror_mode": {
    "name": "ipython",
    "version": 3
   },
   "file_extension": ".py",
   "mimetype": "text/x-python",
   "name": "python",
   "nbconvert_exporter": "python",
   "pygments_lexer": "ipython3",
   "version": "3.9.12"
  }
 },
 "nbformat": 4,
 "nbformat_minor": 5
}
